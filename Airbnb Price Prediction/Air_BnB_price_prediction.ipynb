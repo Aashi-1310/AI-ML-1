{
  "nbformat": 4,
  "nbformat_minor": 0,
  "metadata": {
    "colab": {
      "provenance": []
    },
    "kernelspec": {
      "name": "python3",
      "display_name": "Python 3"
    },
    "language_info": {
      "name": "python"
    }
  },
  "cells": [
    {
      "cell_type": "code",
      "execution_count": 1,
      "metadata": {
        "id": "d81bcQSu3zpc"
      },
      "outputs": [],
      "source": [
        "# importing the necessary libraries\n",
        "import numpy as np\n",
        "import pandas as pd\n",
        "from sklearn.model_selection import train_test_split\n",
        "from sklearn import metrics\n",
        "from sklearn.preprocessing import MinMaxScaler\n",
        "from sklearn.ensemble import RandomForestRegressor, GradientBoostingRegressor\n",
        "from sklearn.linear_model import LinearRegression\n",
        "from sklearn.svm import SVR\n",
        "from tensorflow.keras.models import Sequential"
      ]
    },
    {
      "cell_type": "code",
      "source": [
        "df = pd.read_csv(\"\")\n",
        "df.head()"
      ],
      "metadata": {
        "id": "KLQBrrVX4pWd"
      },
      "execution_count": null,
      "outputs": []
    },
    {
      "cell_type": "code",
      "source": [
        "df_train, df_test  = train_test_split(df, test_size=0.25, random_state = 101)"
      ],
      "metadata": {
        "id": "1Y8kH1rl4u9U"
      },
      "execution_count": null,
      "outputs": []
    },
    {
      "cell_type": "code",
      "source": [
        "df_train.info()"
      ],
      "metadata": {
        "id": "PjxacnKJ5N1P"
      },
      "execution_count": null,
      "outputs": []
    },
    {
      "cell_type": "code",
      "source": [
        "df_train.describe()"
      ],
      "metadata": {
        "id": "hsHTjBZf5NuE"
      },
      "execution_count": null,
      "outputs": []
    },
    {
      "cell_type": "code",
      "source": [
        "# distribution of price across the dataset"
      ],
      "metadata": {
        "id": "B4vgwEkZ5ROH"
      },
      "execution_count": null,
      "outputs": []
    },
    {
      "cell_type": "code",
      "source": [
        "#qqplot of the price"
      ],
      "metadata": {
        "id": "-jV0limD5tXq"
      },
      "execution_count": null,
      "outputs": []
    },
    {
      "cell_type": "code",
      "source": [
        "# check for outliers in the dataset (boxplot)"
      ],
      "metadata": {
        "id": "hp1V-kXh6ENM"
      },
      "execution_count": null,
      "outputs": []
    },
    {
      "cell_type": "code",
      "source": [
        "#  Handle outliers"
      ],
      "metadata": {
        "id": "L4aMHtFS6TCw"
      },
      "execution_count": null,
      "outputs": []
    },
    {
      "cell_type": "code",
      "source": [
        "# Handle the categorical values"
      ],
      "metadata": {
        "id": "3McjZzne6r8f"
      },
      "execution_count": null,
      "outputs": []
    },
    {
      "cell_type": "code",
      "source": [
        "# Normalize the numerical values"
      ],
      "metadata": {
        "id": "gLU6USzs7DRo"
      },
      "execution_count": null,
      "outputs": []
    },
    {
      "cell_type": "markdown",
      "source": [
        "# Model training"
      ],
      "metadata": {
        "id": "KkDQQWmSJGFR"
      }
    },
    {
      "cell_type": "code",
      "source": [
        "# use linear regression to train the model"
      ],
      "metadata": {
        "id": "zrA4sionJH_B"
      },
      "execution_count": null,
      "outputs": []
    },
    {
      "cell_type": "code",
      "source": [
        "# evaluate the model on the testing dataset"
      ],
      "metadata": {
        "id": "WQCaUPBLJNiY"
      },
      "execution_count": null,
      "outputs": []
    }
  ]
}