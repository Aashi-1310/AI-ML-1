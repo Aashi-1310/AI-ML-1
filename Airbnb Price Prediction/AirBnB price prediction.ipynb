{
  "cells": [
    {
      "cell_type": "code",
      "execution_count": 38,
      "metadata": {
        "id": "d81bcQSu3zpc"
      },
      "outputs": [],
      "source": [
        "# importing the necessary libraries\n",
        "import numpy as np\n",
        "import pandas as pd\n",
        "from sklearn.model_selection import train_test_split\n",
        "from sklearn import metrics\n",
        "from sklearn.preprocessing import MinMaxScaler\n",
        "from sklearn.ensemble import RandomForestRegressor, GradientBoostingRegressor\n",
        "from sklearn.linear_model import LinearRegression\n",
        "from sklearn.svm import SVR\n",
        "from tensorflow.keras.models import Sequential\n",
        "import scipy.stats as stats\n",
        "import matplotlib.pyplot as plt\n",
        "import seaborn as sns"
      ]
    },
    {
      "cell_type": "code",
      "execution_count": 39,
      "metadata": {
        "colab": {
          "base_uri": "https://localhost:8080/"
        },
        "id": "YF2L4GVmQe7p",
        "outputId": "59014bfe-a768-4364-84c5-822e419f00d7"
      },

      "outputs": [],
      "source": [
        "df = pd.read_csv(\"Airbnb Price Prediction\\airbnb2.csv\")\n",
        "df.head()"
      ]
    },
    {
      "cell_type": "code",
      "execution_count": null,
      "metadata": {},
      "outputs": [],
      "source": [
        "# CHECKING FOR MISSING VALUES\n",
        "df.isnull().sum()"

      ]
    },
    {
      "cell_type": "code",
      "execution_count": null,
      "metadata": {},
      "outputs": [],
      "source": [
        "#DROPPING MISSING VALUES\n",
        "df.dropna(axis = 0, inplace = True, subset = ['first_review','host_response_rate','last_review','neighbourhood','host_has_profile_pic','host_identity_verified','host_since','thumbnail_url','zipcode'])"
      ]
    },
    {
      "cell_type": "code",
      "execution_count": null,
      "metadata": {},
      "outputs": [],
      "source": [
        "#REPLACING MISSING VALUES WITH MEAN\n",
        "df['bathrooms'] = df['bathrooms'].fillna(df['bathrooms'].mean())\n",
        "df['review_scores_rating'] = df['review_scores_rating'].fillna(df['review_scores_rating'].mean())\n",
        "df['bedrooms'] = df['bedrooms'].fillna(dft['bedrooms'].mean())\n",
        "df['beds'] = df['beds'].fillna(df['beds'].mean())"
      ]
    },
    {
      "cell_type": "code",
      "execution_count": null,
      "metadata": {
        "id": "1Y8kH1rl4u9U"
      },
      "outputs": [],
      "source": [
        "df_train, df_test  = train_test_split(df, test_size=0.2, random_state = 42)"
      ]
    },
    {
      "cell_type": "code",
      "execution_count": 42,

      "metadata": {
        "colab": {
          "base_uri": "https://localhost:8080/"
        },
        "id": "PjxacnKJ5N1P",
        "outputId": "504c7352-9d06-4d18-f41e-b506e6b82c52"
      },

      "outputs": [
        {
          "name": "stdout",
          "output_type": "stream",
          "text": [
            "<class 'pandas.core.frame.DataFrame'>\n",
            "Index: 1500 entries, 1593 to 863\n",
            "Data columns (total 29 columns):\n",
            " #   Column                  Non-Null Count  Dtype  \n",
            "---  ------                  --------------  -----  \n",
            " 0   id                      1500 non-null   int64  \n",
            " 1   log_price               1500 non-null   float64\n",
            " 2   property_type           1500 non-null   object \n",
            " 3   room_type               1500 non-null   object \n",
            " 4   amenities               1500 non-null   object \n",
            " 5   accommodates            1500 non-null   int64  \n",
            " 6   bathrooms               1494 non-null   float64\n",
            " 7   bed_type                1500 non-null   object \n",
            " 8   cancellation_policy     1500 non-null   object \n",
            " 9   cleaning_fee            1500 non-null   bool   \n",
            " 10  city                    1500 non-null   object \n",
            " 11  description             1500 non-null   object \n",
            " 12  first_review            1121 non-null   object \n",
            " 13  host_has_profile_pic    1494 non-null   object \n",
            " 14  host_identity_verified  1494 non-null   object \n",
            " 15  host_response_rate      1089 non-null   object \n",
            " 16  host_since              1494 non-null   object \n",
            " 17  instant_bookable        1500 non-null   object \n",
            " 18  last_review             1123 non-null   object \n",
            " 19  latitude                1500 non-null   float64\n",
            " 20  longitude               1500 non-null   float64\n",
            " 21  name                    1500 non-null   object \n",
            " 22  neighbourhood           1374 non-null   object \n",
            " 23  number_of_reviews       1500 non-null   int64  \n",
            " 24  review_scores_rating    1105 non-null   float64\n",
            " 25  thumbnail_url           1310 non-null   object \n",
            " 26  zipcode                 1483 non-null   object \n",
            " 27  bedrooms                1498 non-null   float64\n",
            " 28  beds                    1497 non-null   float64\n",
            "dtypes: bool(1), float64(7), int64(3), object(18)\n",
            "memory usage: 341.3+ KB\n"
          ]
        }
      ],
      "source": [
        "df_train.info()"
      ]
    },
    {
      "cell_type": "code",

      "execution_count": 43,
      "metadata": {
        "colab": {
          "base_uri": "https://localhost:8080/",
          "height": 300
        },
        "id": "hsHTjBZf5NuE",
        "outputId": "996bbcbe-1a3b-447a-acd5-723909a4fdf7"
      },
      "outputs": [
        {
          "data": {
            "application/vnd.google.colaboratory.intrinsic+json": {
              "summary": "{\n  \"name\": \"df_train\",\n  \"rows\": 8,\n  \"fields\": [\n    {\n      \"column\": \"id\",\n      \"properties\": {\n        \"dtype\": \"number\",\n        \"std\": 7623408.692765098,\n        \"min\": 1500.0,\n        \"max\": 21188095.0,\n        \"num_unique_values\": 8,\n        \"samples\": [\n          11418419.984,\n          13001340.0,\n          1500.0\n        ],\n        \"semantic_type\": \"\",\n        \"description\": \"\"\n      }\n    },\n    {\n      \"column\": \"log_price\",\n      \"properties\": {\n        \"dtype\": \"number\",\n        \"std\": 528.806040561638,\n        \"min\": 0.7069282645995524,\n        \"max\": 1500.0,\n        \"num_unique_values\": 8,\n        \"samples\": [\n          4.79694489897527,\n          4.74493212836325,\n          1500.0\n        ],\n        \"semantic_type\": \"\",\n        \"description\": \"\"\n      }\n    },\n    {\n      \"column\": \"accommodates\",\n      \"properties\": {\n        \"dtype\": \"number\",\n        \"std\": 528.8363958810714,\n        \"min\": 1.0,\n        \"max\": 1500.0,\n        \"num_unique_values\": 7,\n        \"samples\": [\n          1500.0,\n          3.068,\n          4.0\n        ],\n        \"semantic_type\": \"\",\n        \"description\": \"\"\n      }\n    },\n    {\n      \"column\": \"bathrooms\",\n      \"properties\": {\n        \"dtype\": \"number\",\n        \"std\": 527.6951363965287,\n        \"min\": 0.0,\n        \"max\": 1494.0,\n        \"num_unique_values\": 6,\n        \"samples\": [\n          1494.0,\n          1.2085006693440428,\n          5.5\n        ],\n        \"semantic_type\": \"\",\n        \"description\": \"\"\n      }\n    },\n    {\n      \"column\": \"latitude\",\n      \"properties\": {\n        \"dtype\": \"number\",\n        \"std\": 518.7113968723289,\n        \"min\": 3.041899527927061,\n        \"max\": 1500.0,\n        \"num_unique_values\": 8,\n        \"samples\": [\n          38.433049884955565,\n          40.656833310744375,\n          1500.0\n        ],\n        \"semantic_type\": \"\",\n        \"description\": \"\"\n      }\n    },\n    {\n      \"column\": \"longitude\",\n      \"properties\": {\n        \"dtype\": \"number\",\n        \"std\": 559.044140017941,\n        \"min\": -122.50852114209692,\n        \"max\": 1500.0,\n        \"num_unique_values\": 8,\n        \"samples\": [\n          -92.54682137121684,\n          -76.97849697212598,\n          1500.0\n        ],\n        \"semantic_type\": \"\",\n        \"description\": \"\"\n      }\n    },\n    {\n      \"column\": \"number_of_reviews\",\n      \"properties\": {\n        \"dtype\": \"number\",\n        \"std\": 523.1587953908888,\n        \"min\": 0.0,\n        \"max\": 1500.0,\n        \"num_unique_values\": 7,\n        \"samples\": [\n          1500.0,\n          20.021333333333335,\n          21.25\n        ],\n        \"semantic_type\": \"\",\n        \"description\": \"\"\n      }\n    },\n    {\n      \"column\": \"review_scores_rating\",\n      \"properties\": {\n        \"dtype\": \"number\",\n        \"std\": 366.8198255790648,\n        \"min\": 8.911247213868705,\n        \"max\": 1105.0,\n        \"num_unique_values\": 7,\n        \"samples\": [\n          1105.0,\n          93.75746606334842,\n          96.0\n        ],\n        \"semantic_type\": \"\",\n        \"description\": \"\"\n      }\n    },\n    {\n      \"column\": \"bedrooms\",\n      \"properties\": {\n        \"dtype\": \"number\",\n        \"std\": 529.0686885087775,\n        \"min\": 0.0,\n        \"max\": 1498.0,\n        \"num_unique_values\": 6,\n        \"samples\": [\n          1498.0,\n          1.246328437917223,\n          6.0\n        ],\n        \"semantic_type\": \"\",\n        \"description\": \"\"\n      }\n    },\n    {\n      \"column\": \"beds\",\n      \"properties\": {\n        \"dtype\": \"number\",\n        \"std\": 528.0891855172698,\n        \"min\": 1.0,\n        \"max\": 1497.0,\n        \"num_unique_values\": 6,\n        \"samples\": [\n          1497.0,\n          1.680694722778891,\n          16.0\n        ],\n        \"semantic_type\": \"\",\n        \"description\": \"\"\n      }\n    }\n  ]\n}",
              "type": "dataframe"
            },
            "text/html": [
              "\n",
              "  <div id=\"df-8da97aa5-2b72-478c-a95f-c3f8269e10a9\" class=\"colab-df-container\">\n",
              "    <div>\n",
              "<style scoped>\n",
              "    .dataframe tbody tr th:only-of-type {\n",
              "        vertical-align: middle;\n",
              "    }\n",
              "\n",
              "    .dataframe tbody tr th {\n",
              "        vertical-align: top;\n",
              "    }\n",
              "\n",
              "    .dataframe thead th {\n",
              "        text-align: right;\n",
              "    }\n",
              "</style>\n",
              "<table border=\"1\" class=\"dataframe\">\n",
              "  <thead>\n",
              "    <tr style=\"text-align: right;\">\n",
              "      <th></th>\n",
              "      <th>id</th>\n",
              "      <th>log_price</th>\n",
              "      <th>accommodates</th>\n",
              "      <th>bathrooms</th>\n",
              "      <th>latitude</th>\n",
              "      <th>longitude</th>\n",
              "      <th>number_of_reviews</th>\n",
              "      <th>review_scores_rating</th>\n",
              "      <th>bedrooms</th>\n",
              "      <th>beds</th>\n",
              "    </tr>\n",
              "  </thead>\n",
              "  <tbody>\n",
              "    <tr>\n",
              "      <th>count</th>\n",
              "      <td>1.500000e+03</td>\n",
              "      <td>1500.000000</td>\n",
              "      <td>1500.000000</td>\n",
              "      <td>1494.000000</td>\n",
              "      <td>1500.000000</td>\n",
              "      <td>1500.000000</td>\n",
              "      <td>1500.000000</td>\n",
              "      <td>1105.000000</td>\n",
              "      <td>1498.000000</td>\n",
              "      <td>1497.000000</td>\n",
              "    </tr>\n",
              "    <tr>\n",
              "      <th>mean</th>\n",
              "      <td>1.141842e+07</td>\n",
              "      <td>4.796945</td>\n",
              "      <td>3.068000</td>\n",
              "      <td>1.208501</td>\n",
              "      <td>38.433050</td>\n",
              "      <td>-92.546821</td>\n",
              "      <td>20.021333</td>\n",
              "      <td>93.757466</td>\n",
              "      <td>1.246328</td>\n",
              "      <td>1.680695</td>\n",
              "    </tr>\n",
              "    <tr>\n",
              "      <th>std</th>\n",
              "      <td>6.207801e+06</td>\n",
              "      <td>0.706928</td>\n",
              "      <td>1.948137</td>\n",
              "      <td>0.514558</td>\n",
              "      <td>3.041900</td>\n",
              "      <td>21.914962</td>\n",
              "      <td>37.160357</td>\n",
              "      <td>8.911247</td>\n",
              "      <td>0.791616</td>\n",
              "      <td>1.184620</td>\n",
              "    </tr>\n",
              "    <tr>\n",
              "      <th>min</th>\n",
              "      <td>2.072400e+04</td>\n",
              "      <td>2.890372</td>\n",
              "      <td>1.000000</td>\n",
              "      <td>0.000000</td>\n",
              "      <td>33.736322</td>\n",
              "      <td>-122.508521</td>\n",
              "      <td>0.000000</td>\n",
              "      <td>20.000000</td>\n",
              "      <td>0.000000</td>\n",
              "      <td>1.000000</td>\n",
              "    </tr>\n",
              "    <tr>\n",
              "      <th>25%</th>\n",
              "      <td>5.997032e+06</td>\n",
              "      <td>4.317488</td>\n",
              "      <td>2.000000</td>\n",
              "      <td>1.000000</td>\n",
              "      <td>34.145094</td>\n",
              "      <td>-118.356794</td>\n",
              "      <td>0.000000</td>\n",
              "      <td>91.000000</td>\n",
              "      <td>1.000000</td>\n",
              "      <td>1.000000</td>\n",
              "    </tr>\n",
              "    <tr>\n",
              "      <th>50%</th>\n",
              "      <td>1.300134e+07</td>\n",
              "      <td>4.744932</td>\n",
              "      <td>2.000000</td>\n",
              "      <td>1.000000</td>\n",
              "      <td>40.656833</td>\n",
              "      <td>-76.978497</td>\n",
              "      <td>5.000000</td>\n",
              "      <td>96.000000</td>\n",
              "      <td>1.000000</td>\n",
              "      <td>1.000000</td>\n",
              "    </tr>\n",
              "    <tr>\n",
              "      <th>75%</th>\n",
              "      <td>1.666634e+07</td>\n",
              "      <td>5.220356</td>\n",
              "      <td>4.000000</td>\n",
              "      <td>1.000000</td>\n",
              "      <td>40.737713</td>\n",
              "      <td>-73.954307</td>\n",
              "      <td>21.250000</td>\n",
              "      <td>100.000000</td>\n",
              "      <td>1.000000</td>\n",
              "      <td>2.000000</td>\n",
              "    </tr>\n",
              "    <tr>\n",
              "      <th>max</th>\n",
              "      <td>2.118810e+07</td>\n",
              "      <td>7.569412</td>\n",
              "      <td>16.000000</td>\n",
              "      <td>5.500000</td>\n",
              "      <td>42.381566</td>\n",
              "      <td>-70.991861</td>\n",
              "      <td>384.000000</td>\n",
              "      <td>100.000000</td>\n",
              "      <td>6.000000</td>\n",
              "      <td>16.000000</td>\n",
              "    </tr>\n",
              "  </tbody>\n",
              "</table>\n",
              "</div>\n",
              "    <div class=\"colab-df-buttons\">\n",
              "\n",
              "  <div class=\"colab-df-container\">\n",
              "    <button class=\"colab-df-convert\" onclick=\"convertToInteractive('df-8da97aa5-2b72-478c-a95f-c3f8269e10a9')\"\n",
              "            title=\"Convert this dataframe to an interactive table.\"\n",
              "            style=\"display:none;\">\n",
              "\n",
              "  <svg xmlns=\"http://www.w3.org/2000/svg\" height=\"24px\" viewBox=\"0 -960 960 960\">\n",
              "    <path d=\"M120-120v-720h720v720H120Zm60-500h600v-160H180v160Zm220 220h160v-160H400v160Zm0 220h160v-160H400v160ZM180-400h160v-160H180v160Zm440 0h160v-160H620v160ZM180-180h160v-160H180v160Zm440 0h160v-160H620v160Z\"/>\n",
              "  </svg>\n",
              "    </button>\n",
              "\n",
              "  <style>\n",
              "    .colab-df-container {\n",
              "      display:flex;\n",
              "      gap: 12px;\n",
              "    }\n",
              "\n",
              "    .colab-df-convert {\n",
              "      background-color: #E8F0FE;\n",
              "      border: none;\n",
              "      border-radius: 50%;\n",
              "      cursor: pointer;\n",
              "      display: none;\n",
              "      fill: #1967D2;\n",
              "      height: 32px;\n",
              "      padding: 0 0 0 0;\n",
              "      width: 32px;\n",
              "    }\n",
              "\n",
              "    .colab-df-convert:hover {\n",
              "      background-color: #E2EBFA;\n",
              "      box-shadow: 0px 1px 2px rgba(60, 64, 67, 0.3), 0px 1px 3px 1px rgba(60, 64, 67, 0.15);\n",
              "      fill: #174EA6;\n",
              "    }\n",
              "\n",
              "    .colab-df-buttons div {\n",
              "      margin-bottom: 4px;\n",
              "    }\n",
              "\n",
              "    [theme=dark] .colab-df-convert {\n",
              "      background-color: #3B4455;\n",
              "      fill: #D2E3FC;\n",
              "    }\n",
              "\n",
              "    [theme=dark] .colab-df-convert:hover {\n",
              "      background-color: #434B5C;\n",
              "      box-shadow: 0px 1px 3px 1px rgba(0, 0, 0, 0.15);\n",
              "      filter: drop-shadow(0px 1px 2px rgba(0, 0, 0, 0.3));\n",
              "      fill: #FFFFFF;\n",
              "    }\n",
              "  </style>\n",
              "\n",
              "    <script>\n",
              "      const buttonEl =\n",
              "        document.querySelector('#df-8da97aa5-2b72-478c-a95f-c3f8269e10a9 button.colab-df-convert');\n",
              "      buttonEl.style.display =\n",
              "        google.colab.kernel.accessAllowed ? 'block' : 'none';\n",
              "\n",
              "      async function convertToInteractive(key) {\n",
              "        const element = document.querySelector('#df-8da97aa5-2b72-478c-a95f-c3f8269e10a9');\n",
              "        const dataTable =\n",
              "          await google.colab.kernel.invokeFunction('convertToInteractive',\n",
              "                                                    [key], {});\n",
              "        if (!dataTable) return;\n",
              "\n",
              "        const docLinkHtml = 'Like what you see? Visit the ' +\n",
              "          '<a target=\"_blank\" href=https://colab.research.google.com/notebooks/data_table.ipynb>data table notebook</a>'\n",
              "          + ' to learn more about interactive tables.';\n",
              "        element.innerHTML = '';\n",
              "        dataTable['output_type'] = 'display_data';\n",
              "        await google.colab.output.renderOutput(dataTable, element);\n",
              "        const docLink = document.createElement('div');\n",
              "        docLink.innerHTML = docLinkHtml;\n",
              "        element.appendChild(docLink);\n",
              "      }\n",
              "    </script>\n",
              "  </div>\n",
              "\n",
              "\n",
              "<div id=\"df-e01d5658-eaff-49ef-873d-f7262562ac44\">\n",
              "  <button class=\"colab-df-quickchart\" onclick=\"quickchart('df-e01d5658-eaff-49ef-873d-f7262562ac44')\"\n",
              "            title=\"Suggest charts\"\n",
              "            style=\"display:none;\">\n",
              "\n",
              "<svg xmlns=\"http://www.w3.org/2000/svg\" height=\"24px\"viewBox=\"0 0 24 24\"\n",
              "     width=\"24px\">\n",
              "    <g>\n",
              "        <path d=\"M19 3H5c-1.1 0-2 .9-2 2v14c0 1.1.9 2 2 2h14c1.1 0 2-.9 2-2V5c0-1.1-.9-2-2-2zM9 17H7v-7h2v7zm4 0h-2V7h2v10zm4 0h-2v-4h2v4z\"/>\n",
              "    </g>\n",
              "</svg>\n",
              "  </button>\n",
              "\n",
              "<style>\n",
              "  .colab-df-quickchart {\n",
              "      --bg-color: #E8F0FE;\n",
              "      --fill-color: #1967D2;\n",
              "      --hover-bg-color: #E2EBFA;\n",
              "      --hover-fill-color: #174EA6;\n",
              "      --disabled-fill-color: #AAA;\n",
              "      --disabled-bg-color: #DDD;\n",
              "  }\n",
              "\n",
              "  [theme=dark] .colab-df-quickchart {\n",
              "      --bg-color: #3B4455;\n",
              "      --fill-color: #D2E3FC;\n",
              "      --hover-bg-color: #434B5C;\n",
              "      --hover-fill-color: #FFFFFF;\n",
              "      --disabled-bg-color: #3B4455;\n",
              "      --disabled-fill-color: #666;\n",
              "  }\n",
              "\n",
              "  .colab-df-quickchart {\n",
              "    background-color: var(--bg-color);\n",
              "    border: none;\n",
              "    border-radius: 50%;\n",
              "    cursor: pointer;\n",
              "    display: none;\n",
              "    fill: var(--fill-color);\n",
              "    height: 32px;\n",
              "    padding: 0;\n",
              "    width: 32px;\n",
              "  }\n",
              "\n",
              "  .colab-df-quickchart:hover {\n",
              "    background-color: var(--hover-bg-color);\n",
              "    box-shadow: 0 1px 2px rgba(60, 64, 67, 0.3), 0 1px 3px 1px rgba(60, 64, 67, 0.15);\n",
              "    fill: var(--button-hover-fill-color);\n",
              "  }\n",
              "\n",
              "  .colab-df-quickchart-complete:disabled,\n",
              "  .colab-df-quickchart-complete:disabled:hover {\n",
              "    background-color: var(--disabled-bg-color);\n",
              "    fill: var(--disabled-fill-color);\n",
              "    box-shadow: none;\n",
              "  }\n",
              "\n",
              "  .colab-df-spinner {\n",
              "    border: 2px solid var(--fill-color);\n",
              "    border-color: transparent;\n",
              "    border-bottom-color: var(--fill-color);\n",
              "    animation:\n",
              "      spin 1s steps(1) infinite;\n",
              "  }\n",
              "\n",
              "  @keyframes spin {\n",
              "    0% {\n",
              "      border-color: transparent;\n",
              "      border-bottom-color: var(--fill-color);\n",
              "      border-left-color: var(--fill-color);\n",
              "    }\n",
              "    20% {\n",
              "      border-color: transparent;\n",
              "      border-left-color: var(--fill-color);\n",
              "      border-top-color: var(--fill-color);\n",
              "    }\n",
              "    30% {\n",
              "      border-color: transparent;\n",
              "      border-left-color: var(--fill-color);\n",
              "      border-top-color: var(--fill-color);\n",
              "      border-right-color: var(--fill-color);\n",
              "    }\n",
              "    40% {\n",
              "      border-color: transparent;\n",
              "      border-right-color: var(--fill-color);\n",
              "      border-top-color: var(--fill-color);\n",
              "    }\n",
              "    60% {\n",
              "      border-color: transparent;\n",
              "      border-right-color: var(--fill-color);\n",
              "    }\n",
              "    80% {\n",
              "      border-color: transparent;\n",
              "      border-right-color: var(--fill-color);\n",
              "      border-bottom-color: var(--fill-color);\n",
              "    }\n",
              "    90% {\n",
              "      border-color: transparent;\n",
              "      border-bottom-color: var(--fill-color);\n",
              "    }\n",
              "  }\n",
              "</style>\n",
              "\n",
              "  <script>\n",
              "    async function quickchart(key) {\n",
              "      const quickchartButtonEl =\n",
              "        document.querySelector('#' + key + ' button');\n",
              "      quickchartButtonEl.disabled = true;  // To prevent multiple clicks.\n",
              "      quickchartButtonEl.classList.add('colab-df-spinner');\n",
              "      try {\n",
              "        const charts = await google.colab.kernel.invokeFunction(\n",
              "            'suggestCharts', [key], {});\n",
              "      } catch (error) {\n",
              "        console.error('Error during call to suggestCharts:', error);\n",
              "      }\n",
              "      quickchartButtonEl.classList.remove('colab-df-spinner');\n",
              "      quickchartButtonEl.classList.add('colab-df-quickchart-complete');\n",
              "    }\n",
              "    (() => {\n",
              "      let quickchartButtonEl =\n",
              "        document.querySelector('#df-e01d5658-eaff-49ef-873d-f7262562ac44 button');\n",
              "      quickchartButtonEl.style.display =\n",
              "        google.colab.kernel.accessAllowed ? 'block' : 'none';\n",
              "    })();\n",
              "  </script>\n",
              "</div>\n",
              "\n",
              "    </div>\n",
              "  </div>\n"
            ],
            "text/plain": [
              "                 id    log_price  accommodates    bathrooms     latitude  \\\n",
              "count  1.500000e+03  1500.000000   1500.000000  1494.000000  1500.000000   \n",
              "mean   1.141842e+07     4.796945      3.068000     1.208501    38.433050   \n",
              "std    6.207801e+06     0.706928      1.948137     0.514558     3.041900   \n",
              "min    2.072400e+04     2.890372      1.000000     0.000000    33.736322   \n",
              "25%    5.997032e+06     4.317488      2.000000     1.000000    34.145094   \n",
              "50%    1.300134e+07     4.744932      2.000000     1.000000    40.656833   \n",
              "75%    1.666634e+07     5.220356      4.000000     1.000000    40.737713   \n",
              "max    2.118810e+07     7.569412     16.000000     5.500000    42.381566   \n",
              "\n",
              "         longitude  number_of_reviews  review_scores_rating     bedrooms  \\\n",
              "count  1500.000000        1500.000000           1105.000000  1498.000000   \n",
              "mean    -92.546821          20.021333             93.757466     1.246328   \n",
              "std      21.914962          37.160357              8.911247     0.791616   \n",
              "min    -122.508521           0.000000             20.000000     0.000000   \n",
              "25%    -118.356794           0.000000             91.000000     1.000000   \n",
              "50%     -76.978497           5.000000             96.000000     1.000000   \n",
              "75%     -73.954307          21.250000            100.000000     1.000000   \n",
              "max     -70.991861         384.000000            100.000000     6.000000   \n",
              "\n",
              "              beds  \n",
              "count  1497.000000  \n",
              "mean      1.680695  \n",
              "std       1.184620  \n",
              "min       1.000000  \n",
              "25%       1.000000  \n",
              "50%       1.000000  \n",
              "75%       2.000000  \n",
              "max      16.000000  "
            ]
          },
          "execution_count": 43,
          "metadata": {},
          "output_type": "execute_result"
        }
      ],

      "source": [
        "df_train.describe()"
      ]
    },
    {
      "cell_type": "code",

      "execution_count": 44,

      "metadata": {
        "colab": {
          "base_uri": "https://localhost:8080/",
          "height": 564
        },
        "id": "B4vgwEkZ5ROH",
        "outputId": "c79aa912-e106-46cc-97fa-f41f57822e5c"
      },

      "outputs": [
        {
          "data": {
            "image/png": "[encoded data removed]",
            "text/plain": [
              "<Figure size 1000x600 with 1 Axes>"
            ]
          },
          "metadata": {},
          "output_type": "display_data"
        }
      ],
      "source": [
        "# distribution of price across the dataset\n",
        "\n",
        "#histogram with kde for `log_price`\n",
        "#KDE is the lining above the histogram indicates density estimate for better analysis\n",
        "plt.figure(figsize=(10, 6))\n",
        "sns.histplot(df['log_price'], kde=True, bins=30, color='blue')\n",
        "plt.title('Distribution of Log Price')\n",
        "plt.xlabel('Log Price')\n",
        "plt.ylabel('Frequency')\n",
        "plt.show()"

      ]
    },
    {
      "cell_type": "code",
      "execution_count": null,
      "metadata": {
        "colab": {
          "base_uri": "https://localhost:8080/",
          "height": 564
        },
        "id": "-jV0limD5tXq",
        "outputId": "a0ef199f-3cb6-40ae-b383-bd23cda01134"
      },

      "outputs": [],
      "source": [
        "#qqplot of the price"
      ]
    },
    {
      "cell_type": "code",
      "execution_count": null,
      "metadata": {
        "colab": {
          "base_uri": "https://localhost:8080/",
          "height": 564
        },
        "id": "hp1V-kXh6ENM",
        "outputId": "3c166280-fd8a-4354-e877-aab46b57ac5b"
      },

      "outputs": [],
      "source": [
        "# check for outliers in the dataset (boxplot)"
      ]
    },
    {
      "cell_type": "code",
      "execution_count": null,
      "metadata": {
        "id": "L4aMHtFS6TCw"
      },
      "outputs": [],
      "source": [
        "#  Handle outliers"
      ]
    },
    {
      "cell_type": "code",
      "execution_count": null,
      "metadata": {
        "id": "3McjZzne6r8f"
      },
      "outputs": [],
      "source": [
        "# Handle the categorical values"
      ]
    },
    {
      "cell_type": "code",
      "execution_count": null,
      "metadata": {
        "id": "gLU6USzs7DRo"
      },
      "outputs": [],
      "source": [
        "# Normalize the numerical values"
      ]
    },
    {
      "cell_type": "markdown",
      "metadata": {
        "id": "KkDQQWmSJGFR"
      },
      "source": [
        "# Model training"
      ]
    },
    {
      "cell_type": "code",
      "execution_count": null,
      "metadata": {
        "id": "zrA4sionJH_B"
      },
      "outputs": [],
      "source": [
        "# use linear regression to train the model"
      ]
    },
    {
      "cell_type": "code",
      "execution_count": null,
      "metadata": {
        "id": "WQCaUPBLJNiY"
      },
      "outputs": [],
      "source": [
        "# evaluate the model on the testing dataset"
      ]
    }
  ],
  "metadata": {
    "colab": {
      "provenance": []
    },
    "kernelspec": {
      "display_name": "Python 3",
      "name": "python3"
    },
    "language_info": {
      "name": "python"
    }
  },
  "nbformat": 4,
  "nbformat_minor": 0
}
